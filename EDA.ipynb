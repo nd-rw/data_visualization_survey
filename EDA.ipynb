{
 "cells": [
  {
   "cell_type": "code",
   "execution_count": 11,
   "metadata": {},
   "outputs": [],
   "source": [
    "import pandas as pd"
   ]
  },
  {
   "cell_type": "code",
   "execution_count": 77,
   "metadata": {},
   "outputs": [],
   "source": [
    "def shared_keys(df1, df2):\n",
    "    return list(set(df1.columns.tolist()) & set(df2.columns.tolist()))"
   ]
  },
  {
   "cell_type": "code",
   "execution_count": 79,
   "metadata": {},
   "outputs": [],
   "source": [
    "survey_2019 = pd.read_csv('data/cleaned_survey_results_2019.csv')\n",
    "survey_2018 = pd.read_csv('data/cleaned_survey_results_2018.tsv', sep='\\t')"
   ]
  },
  {
   "cell_type": "markdown",
   "metadata": {},
   "source": [
    "If we have year-over-year data available, (we do!) I want to find out how many of the survey questions are the same."
   ]
  },
  {
   "cell_type": "code",
   "execution_count": 124,
   "metadata": {},
   "outputs": [
    {
     "data": {
      "text/plain": [
       "['What community support / discussions / advice would you want to see from data visualization thought leaders?',\n",
       " 'Are you able to choose your own tools or are the choices made for you?',\n",
       " 'Do you want to spend more time or less time visualizing data in the future?',\n",
       " 'Who do you look to as a thought leader in data visualization?',\n",
       " 'If you could change one thing about your data visualization work what would it be?',\n",
       " 'Do you do more or less data visualization than you expected for this role?',\n",
       " 'What focus is data visualization in your work?',\n",
       " 'How would you describe your relationship with stakeholders?',\n",
       " 'I want to make better visualizations but don’t have the time/energy/resources.',\n",
       " 'What is your biggest frustration with doing data visualization in your job?',\n",
       " 'What do you think other people in your organization just don’t get about the data visualization work that you do?',\n",
       " 'I have adequate resources to explore the data visualization options I want to use. ',\n",
       " 'I’m always on the lookout for new data visualization tools and techniques that will make my workflows faster and more efficient.',\n",
       " 'What one change would make the data visualization aspect of your job better?']"
      ]
     },
     "execution_count": 124,
     "metadata": {},
     "output_type": "execute_result"
    }
   ],
   "source": [
    "shared_cols = shared_keys(survey_2019, survey_2018)\n",
    "shared_cols"
   ]
  },
  {
   "cell_type": "code",
   "execution_count": 119,
   "metadata": {},
   "outputs": [
    {
     "data": {
      "text/html": [
       "<div>\n",
       "<style scoped>\n",
       "    .dataframe tbody tr th:only-of-type {\n",
       "        vertical-align: middle;\n",
       "    }\n",
       "\n",
       "    .dataframe tbody tr th {\n",
       "        vertical-align: top;\n",
       "    }\n",
       "\n",
       "    .dataframe thead th {\n",
       "        text-align: right;\n",
       "    }\n",
       "</style>\n",
       "<table border=\"1\" class=\"dataframe\">\n",
       "  <thead>\n",
       "    <tr style=\"text-align: right;\">\n",
       "      <th></th>\n",
       "      <th>I want to make better visualizations but don’t have the time/energy/resources.</th>\n",
       "      <th>I have adequate resources to explore the data visualization options I want to use.</th>\n",
       "      <th>I’m always on the lookout for new data visualization tools and techniques that will make my workflows faster and more efficient.</th>\n",
       "    </tr>\n",
       "  </thead>\n",
       "  <tbody>\n",
       "    <tr>\n",
       "      <th>count</th>\n",
       "      <td>1334.000000</td>\n",
       "      <td>1337.000000</td>\n",
       "      <td>1338.000000</td>\n",
       "    </tr>\n",
       "    <tr>\n",
       "      <th>mean</th>\n",
       "      <td>3.658921</td>\n",
       "      <td>3.617053</td>\n",
       "      <td>3.915546</td>\n",
       "    </tr>\n",
       "    <tr>\n",
       "      <th>std</th>\n",
       "      <td>1.160687</td>\n",
       "      <td>1.104540</td>\n",
       "      <td>1.055476</td>\n",
       "    </tr>\n",
       "    <tr>\n",
       "      <th>min</th>\n",
       "      <td>1.000000</td>\n",
       "      <td>1.000000</td>\n",
       "      <td>1.000000</td>\n",
       "    </tr>\n",
       "    <tr>\n",
       "      <th>25%</th>\n",
       "      <td>3.000000</td>\n",
       "      <td>3.000000</td>\n",
       "      <td>3.000000</td>\n",
       "    </tr>\n",
       "    <tr>\n",
       "      <th>50%</th>\n",
       "      <td>4.000000</td>\n",
       "      <td>4.000000</td>\n",
       "      <td>4.000000</td>\n",
       "    </tr>\n",
       "    <tr>\n",
       "      <th>75%</th>\n",
       "      <td>5.000000</td>\n",
       "      <td>4.000000</td>\n",
       "      <td>5.000000</td>\n",
       "    </tr>\n",
       "    <tr>\n",
       "      <th>max</th>\n",
       "      <td>5.000000</td>\n",
       "      <td>5.000000</td>\n",
       "      <td>5.000000</td>\n",
       "    </tr>\n",
       "  </tbody>\n",
       "</table>\n",
       "</div>"
      ],
      "text/plain": [
       "       I want to make better visualizations but don’t have the time/energy/resources.  \\\n",
       "count                                        1334.000000                                \n",
       "mean                                            3.658921                                \n",
       "std                                             1.160687                                \n",
       "min                                             1.000000                                \n",
       "25%                                             3.000000                                \n",
       "50%                                             4.000000                                \n",
       "75%                                             5.000000                                \n",
       "max                                             5.000000                                \n",
       "\n",
       "       I have adequate resources to explore the data visualization options I want to use.   \\\n",
       "count                                        1337.000000                                     \n",
       "mean                                            3.617053                                     \n",
       "std                                             1.104540                                     \n",
       "min                                             1.000000                                     \n",
       "25%                                             3.000000                                     \n",
       "50%                                             4.000000                                     \n",
       "75%                                             4.000000                                     \n",
       "max                                             5.000000                                     \n",
       "\n",
       "       I’m always on the lookout for new data visualization tools and techniques that will make my workflows faster and more efficient.  \n",
       "count                                        1338.000000                                                                                 \n",
       "mean                                            3.915546                                                                                 \n",
       "std                                             1.055476                                                                                 \n",
       "min                                             1.000000                                                                                 \n",
       "25%                                             3.000000                                                                                 \n",
       "50%                                             4.000000                                                                                 \n",
       "75%                                             5.000000                                                                                 \n",
       "max                                             5.000000                                                                                 "
      ]
     },
     "execution_count": 119,
     "metadata": {},
     "output_type": "execute_result"
    }
   ],
   "source": [
    "survey_2019[shared_cols].describe()"
   ]
  },
  {
   "cell_type": "code",
   "execution_count": 121,
   "metadata": {},
   "outputs": [
    {
     "data": {
      "text/html": [
       "<div>\n",
       "<style scoped>\n",
       "    .dataframe tbody tr th:only-of-type {\n",
       "        vertical-align: middle;\n",
       "    }\n",
       "\n",
       "    .dataframe tbody tr th {\n",
       "        vertical-align: top;\n",
       "    }\n",
       "\n",
       "    .dataframe thead th {\n",
       "        text-align: right;\n",
       "    }\n",
       "</style>\n",
       "<table border=\"1\" class=\"dataframe\">\n",
       "  <thead>\n",
       "    <tr style=\"text-align: right;\">\n",
       "      <th></th>\n",
       "      <th>I want to make better visualizations but don’t have the time/energy/resources.</th>\n",
       "      <th>I have adequate resources to explore the data visualization options I want to use.</th>\n",
       "      <th>I’m always on the lookout for new data visualization tools and techniques that will make my workflows faster and more efficient.</th>\n",
       "    </tr>\n",
       "  </thead>\n",
       "  <tbody>\n",
       "    <tr>\n",
       "      <th>count</th>\n",
       "      <td>619.000000</td>\n",
       "      <td>619.000000</td>\n",
       "      <td>619.000000</td>\n",
       "    </tr>\n",
       "    <tr>\n",
       "      <th>mean</th>\n",
       "      <td>3.471729</td>\n",
       "      <td>3.696284</td>\n",
       "      <td>3.928918</td>\n",
       "    </tr>\n",
       "    <tr>\n",
       "      <th>std</th>\n",
       "      <td>1.208288</td>\n",
       "      <td>1.049658</td>\n",
       "      <td>0.981110</td>\n",
       "    </tr>\n",
       "    <tr>\n",
       "      <th>min</th>\n",
       "      <td>1.000000</td>\n",
       "      <td>1.000000</td>\n",
       "      <td>1.000000</td>\n",
       "    </tr>\n",
       "    <tr>\n",
       "      <th>25%</th>\n",
       "      <td>3.000000</td>\n",
       "      <td>3.000000</td>\n",
       "      <td>3.000000</td>\n",
       "    </tr>\n",
       "    <tr>\n",
       "      <th>50%</th>\n",
       "      <td>4.000000</td>\n",
       "      <td>4.000000</td>\n",
       "      <td>4.000000</td>\n",
       "    </tr>\n",
       "    <tr>\n",
       "      <th>75%</th>\n",
       "      <td>4.000000</td>\n",
       "      <td>4.000000</td>\n",
       "      <td>5.000000</td>\n",
       "    </tr>\n",
       "    <tr>\n",
       "      <th>max</th>\n",
       "      <td>5.000000</td>\n",
       "      <td>5.000000</td>\n",
       "      <td>5.000000</td>\n",
       "    </tr>\n",
       "  </tbody>\n",
       "</table>\n",
       "</div>"
      ],
      "text/plain": [
       "       I want to make better visualizations but don’t have the time/energy/resources.  \\\n",
       "count                                         619.000000                                \n",
       "mean                                            3.471729                                \n",
       "std                                             1.208288                                \n",
       "min                                             1.000000                                \n",
       "25%                                             3.000000                                \n",
       "50%                                             4.000000                                \n",
       "75%                                             4.000000                                \n",
       "max                                             5.000000                                \n",
       "\n",
       "       I have adequate resources to explore the data visualization options I want to use.   \\\n",
       "count                                         619.000000                                     \n",
       "mean                                            3.696284                                     \n",
       "std                                             1.049658                                     \n",
       "min                                             1.000000                                     \n",
       "25%                                             3.000000                                     \n",
       "50%                                             4.000000                                     \n",
       "75%                                             4.000000                                     \n",
       "max                                             5.000000                                     \n",
       "\n",
       "       I’m always on the lookout for new data visualization tools and techniques that will make my workflows faster and more efficient.  \n",
       "count                                         619.000000                                                                                 \n",
       "mean                                            3.928918                                                                                 \n",
       "std                                             0.981110                                                                                 \n",
       "min                                             1.000000                                                                                 \n",
       "25%                                             3.000000                                                                                 \n",
       "50%                                             4.000000                                                                                 \n",
       "75%                                             5.000000                                                                                 \n",
       "max                                             5.000000                                                                                 "
      ]
     },
     "execution_count": 121,
     "metadata": {},
     "output_type": "execute_result"
    }
   ],
   "source": [
    "survey_2018[shared_cols].describe()"
   ]
  },
  {
   "cell_type": "markdown",
   "metadata": {},
   "source": [
    "As you can see above, `.describe()` is only picking up 3 numerical columns. So we will have to fix/clean as many of the remaining columns as we can."
   ]
  },
  {
   "cell_type": "code",
   "execution_count": 122,
   "metadata": {},
   "outputs": [],
   "source": [
    "s_2019_dev = survey_2019[shared_cols]"
   ]
  },
  {
   "cell_type": "code",
   "execution_count": 131,
   "metadata": {},
   "outputs": [
    {
     "data": {
      "text/html": [
       "<div>\n",
       "<style scoped>\n",
       "    .dataframe tbody tr th:only-of-type {\n",
       "        vertical-align: middle;\n",
       "    }\n",
       "\n",
       "    .dataframe tbody tr th {\n",
       "        vertical-align: top;\n",
       "    }\n",
       "\n",
       "    .dataframe thead th {\n",
       "        text-align: right;\n",
       "    }\n",
       "</style>\n",
       "<table border=\"1\" class=\"dataframe\">\n",
       "  <thead>\n",
       "    <tr style=\"text-align: right;\">\n",
       "      <th></th>\n",
       "      <th>Less</th>\n",
       "      <th>More</th>\n",
       "      <th>Much Less</th>\n",
       "      <th>Much more</th>\n",
       "      <th>Same</th>\n",
       "    </tr>\n",
       "  </thead>\n",
       "  <tbody>\n",
       "    <tr>\n",
       "      <th>0</th>\n",
       "      <td>0</td>\n",
       "      <td>1</td>\n",
       "      <td>0</td>\n",
       "      <td>0</td>\n",
       "      <td>0</td>\n",
       "    </tr>\n",
       "    <tr>\n",
       "      <th>1</th>\n",
       "      <td>0</td>\n",
       "      <td>0</td>\n",
       "      <td>0</td>\n",
       "      <td>1</td>\n",
       "      <td>0</td>\n",
       "    </tr>\n",
       "    <tr>\n",
       "      <th>2</th>\n",
       "      <td>0</td>\n",
       "      <td>1</td>\n",
       "      <td>0</td>\n",
       "      <td>0</td>\n",
       "      <td>0</td>\n",
       "    </tr>\n",
       "    <tr>\n",
       "      <th>3</th>\n",
       "      <td>0</td>\n",
       "      <td>0</td>\n",
       "      <td>0</td>\n",
       "      <td>1</td>\n",
       "      <td>0</td>\n",
       "    </tr>\n",
       "    <tr>\n",
       "      <th>4</th>\n",
       "      <td>0</td>\n",
       "      <td>0</td>\n",
       "      <td>0</td>\n",
       "      <td>1</td>\n",
       "      <td>0</td>\n",
       "    </tr>\n",
       "  </tbody>\n",
       "</table>\n",
       "</div>"
      ],
      "text/plain": [
       "   Less  More  Much Less  Much more  Same\n",
       "0     0     1          0          0     0\n",
       "1     0     0          0          1     0\n",
       "2     0     1          0          0     0\n",
       "3     0     0          0          1     0\n",
       "4     0     0          0          1     0"
      ]
     },
     "execution_count": 131,
     "metadata": {},
     "output_type": "execute_result"
    }
   ],
   "source": [
    "pd.get_dummies(s_2019_dev['Do you want to spend more time or less time visualizing data in the future?']).head()"
   ]
  },
  {
   "cell_type": "code",
   "execution_count": null,
   "metadata": {},
   "outputs": [],
   "source": []
  }
 ],
 "metadata": {
  "kernelspec": {
   "display_name": "Python 3",
   "language": "python",
   "name": "python3"
  },
  "language_info": {
   "codemirror_mode": {
    "name": "ipython",
    "version": 3
   },
   "file_extension": ".py",
   "mimetype": "text/x-python",
   "name": "python",
   "nbconvert_exporter": "python",
   "pygments_lexer": "ipython3",
   "version": "3.7.2"
  }
 },
 "nbformat": 4,
 "nbformat_minor": 2
}
